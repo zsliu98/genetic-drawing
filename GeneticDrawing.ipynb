{
 "cells": [
  {
   "cell_type": "markdown",
   "metadata": {
    "id": "f1_prBInsxij"
   },
   "source": [
    "# Prepare"
   ]
  },
  {
   "cell_type": "code",
   "execution_count": 1,
   "metadata": {
    "id": "5h-yDx_3slmE"
   },
   "outputs": [],
   "source": [
    "import cv2\n",
    "import numpy as np\n",
    "import os\n",
    "import pickle\n",
    "from IPython.display import clear_output\n",
    "\n",
    "from genetic_drawing import Nature\n",
    "\n",
    "figure_path = 'test/'\n",
    "figure_name = 'in.png'\n",
    "output_name = 'out.png'\n",
    "np.random.seed(42)"
   ]
  },
  {
   "cell_type": "markdown",
   "metadata": {
    "id": "iJTY1Uv3s_9N"
   },
   "source": [
    "# Draw"
   ]
  },
  {
   "cell_type": "code",
   "execution_count": 2,
   "metadata": {
    "id": "Jli5xsdYxFaT",
    "colab": {
     "base_uri": "https://localhost:8080/"
    },
    "outputId": "3b73aa7f-2368-48c4-f245-13d72c610a06"
   },
   "outputs": [
    {
     "name": "stdout",
     "output_type": "stream",
     "text": [
      "Error 57799515\n"
     ]
    },
    {
     "name": "stderr",
     "output_type": "stream",
     "text": [
      "libpng warning: iCCP: known incorrect sRGB profile\n"
     ]
    }
   ],
   "source": [
    "gen = Nature(cv2.imread(figure_path + figure_name), img_buffer=None)\n",
    "\n",
    "if os.path.isfile(figure_path + 'state.pkl'):\n",
    "    gen.load_state(figure_path + 'state.pkl')\n",
    "\n",
    "brush_size = (0.3, 0.2)\n",
    "gen.brushes_range = [[0.05 * brush_size[0], 0.1 * brush_size[0]], [0.1 * brush_size[1], 0.2 * brush_size[1]]]"
   ]
  },
  {
   "cell_type": "code",
   "execution_count": 3,
   "metadata": {
    "colab": {
     "base_uri": "https://localhost:8080/",
     "height": 407
    },
    "id": "-wJXCDHxxFaS",
    "outputId": "2e946922-c7eb-495c-a21a-9c988d1ea589"
   },
   "outputs": [
    {
     "name": "stdout",
     "output_type": "stream",
     "text": [
      "99.8%\tStage 39\tGeneration 9\tError 8502490\n"
     ]
    }
   ],
   "source": [
    "for i in range(5):\n",
    "    out = gen.generate(steps=40, generations=10, dna_count=15, gene_count=3)\n",
    "    cv2.imwrite(figure_path + output_name, gen.best_dna.cached_image)\n",
    "    gen.save_state(figure_path + 'state.pkl')"
   ]
  },
  {
   "cell_type": "code",
   "execution_count": 4,
   "metadata": {
    "id": "rbTCIAI1Eu6I"
   },
   "outputs": [
    {
     "data": {
      "text/plain": "True"
     },
     "execution_count": 4,
     "metadata": {},
     "output_type": "execute_result"
    }
   ],
   "source": [
    "cv2.imwrite(figure_path + output_name, gen.best_dna.cached_image)"
   ]
  }
 ],
 "metadata": {
  "colab": {
   "provenance": []
  },
  "kernelspec": {
   "display_name": "Python 3",
   "language": "python",
   "name": "python3"
  },
  "language_info": {
   "codemirror_mode": {
    "name": "ipython",
    "version": 3
   },
   "file_extension": ".py",
   "mimetype": "text/x-python",
   "name": "python",
   "nbconvert_exporter": "python",
   "pygments_lexer": "ipython3",
   "version": "3.9.2"
  }
 },
 "nbformat": 4,
 "nbformat_minor": 0
}
